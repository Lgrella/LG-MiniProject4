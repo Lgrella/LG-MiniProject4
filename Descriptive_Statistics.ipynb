{
  "nbformat": 4,
  "nbformat_minor": 0,
  "metadata": {
    "colab": {
      "provenance": [],
      "authorship_tag": "ABX9TyNd2gv7zxPiErrEnBFDUSAe",
      "include_colab_link": true
    },
    "kernelspec": {
      "name": "python3",
      "display_name": "Python 3"
    },
    "language_info": {
      "name": "python"
    }
  },
  "cells": [
    {
      "cell_type": "markdown",
      "metadata": {
        "id": "view-in-github",
        "colab_type": "text"
      },
      "source": [
        "<a href=\"https://colab.research.google.com/github/Lgrella/LGrella-IndividualProject1/blob/main/Descriptive_Statistics.ipynb\" target=\"_parent\"><img src=\"https://colab.research.google.com/assets/colab-badge.svg\" alt=\"Open In Colab\"/></a>"
      ]
    },
    {
      "cell_type": "markdown",
      "source": [
        "# Summary Statistics and Data Visualization of SPY.csv using Jupyter Notebook\n",
        "\n"
      ],
      "metadata": {
        "id": "9o95WGHKpAzk"
      }
    },
    {
      "cell_type": "code",
      "execution_count": null,
      "metadata": {
        "id": "cz4cs_azoDAA"
      },
      "outputs": [],
      "source": [
        "from lib import readin, get_summ_stats, make_line_graph"
      ]
    },
    {
      "cell_type": "code",
      "source": [
        "df = readin()"
      ],
      "metadata": {
        "id": "HhToJNFJow4n"
      },
      "execution_count": null,
      "outputs": []
    },
    {
      "cell_type": "markdown",
      "source": [
        "Get Summary Statistics"
      ],
      "metadata": {
        "id": "_epHVi0BpRXe"
      }
    },
    {
      "cell_type": "code",
      "source": [
        "stats = get_summ_stats(df)\n",
        "print(\"Summary Statistics of SPY.csv using Pandas:\")\n",
        "print(stats)"
      ],
      "metadata": {
        "id": "P2E5G3dIo1G-"
      },
      "execution_count": null,
      "outputs": []
    },
    {
      "cell_type": "markdown",
      "source": [],
      "metadata": {
        "id": "oEdvPFfTpVEA"
      }
    },
    {
      "cell_type": "code",
      "source": [
        "# Create Line Chart\n",
        "make_line_graph(df)"
      ],
      "metadata": {
        "id": "vSW1dLJkpAbW"
      },
      "execution_count": null,
      "outputs": []
    }
  ]
}